{
 "cells": [
  {
   "cell_type": "code",
   "execution_count": 1,
   "metadata": {},
   "outputs": [
    {
     "name": "stdout",
     "output_type": "stream",
     "text": [
      "Requirement already satisfied: dash in c:\\users\\aarthiksundaram\\appdata\\local\\continuum\\anaconda3\\lib\\site-packages (1.13.4)\n",
      "Requirement already satisfied: future in c:\\users\\aarthiksundaram\\appdata\\local\\continuum\\anaconda3\\lib\\site-packages (from dash) (0.18.2)\n",
      "Requirement already satisfied: dash-renderer==1.5.1 in c:\\users\\aarthiksundaram\\appdata\\local\\continuum\\anaconda3\\lib\\site-packages (from dash) (1.5.1)\n",
      "Requirement already satisfied: dash-table==4.8.1 in c:\\users\\aarthiksundaram\\appdata\\local\\continuum\\anaconda3\\lib\\site-packages (from dash) (4.8.1)\n",
      "Requirement already satisfied: plotly in c:\\users\\aarthiksundaram\\appdata\\local\\continuum\\anaconda3\\lib\\site-packages (from dash) (4.8.2)\n",
      "Requirement already satisfied: dash-html-components==1.0.3 in c:\\users\\aarthiksundaram\\appdata\\local\\continuum\\anaconda3\\lib\\site-packages (from dash) (1.0.3)\n",
      "Requirement already satisfied: dash-core-components==1.10.1 in c:\\users\\aarthiksundaram\\appdata\\local\\continuum\\anaconda3\\lib\\site-packages (from dash) (1.10.1)\n",
      "Requirement already satisfied: flask-compress in c:\\users\\aarthiksundaram\\appdata\\local\\continuum\\anaconda3\\lib\\site-packages (from dash) (1.5.0)\n",
      "Requirement already satisfied: Flask>=1.0.2 in c:\\users\\aarthiksundaram\\appdata\\local\\continuum\\anaconda3\\lib\\site-packages (from dash) (1.1.2)\n",
      "Requirement already satisfied: retrying>=1.3.3 in c:\\users\\aarthiksundaram\\appdata\\local\\continuum\\anaconda3\\lib\\site-packages (from plotly->dash) (1.3.3)\n",
      "Requirement already satisfied: six in c:\\users\\aarthiksundaram\\appdata\\local\\continuum\\anaconda3\\lib\\site-packages (from plotly->dash) (1.15.0)\n",
      "Requirement already satisfied: brotli in c:\\users\\aarthiksundaram\\appdata\\local\\continuum\\anaconda3\\lib\\site-packages (from flask-compress->dash) (1.0.7)\n",
      "Requirement already satisfied: click>=5.1 in c:\\users\\aarthiksundaram\\appdata\\local\\continuum\\anaconda3\\lib\\site-packages (from Flask>=1.0.2->dash) (7.1.2)\n",
      "Requirement already satisfied: Jinja2>=2.10.1 in c:\\users\\aarthiksundaram\\appdata\\local\\continuum\\anaconda3\\lib\\site-packages (from Flask>=1.0.2->dash) (2.11.2)\n",
      "Requirement already satisfied: Werkzeug>=0.15 in c:\\users\\aarthiksundaram\\appdata\\local\\continuum\\anaconda3\\lib\\site-packages (from Flask>=1.0.2->dash) (1.0.1)\n",
      "Requirement already satisfied: itsdangerous>=0.24 in c:\\users\\aarthiksundaram\\appdata\\local\\continuum\\anaconda3\\lib\\site-packages (from Flask>=1.0.2->dash) (1.1.0)\n",
      "Requirement already satisfied: MarkupSafe>=0.23 in c:\\users\\aarthiksundaram\\appdata\\local\\continuum\\anaconda3\\lib\\site-packages (from Jinja2>=2.10.1->Flask>=1.0.2->dash) (1.1.1)\n",
      "Requirement already satisfied: dash-renderer in c:\\users\\aarthiksundaram\\appdata\\local\\continuum\\anaconda3\\lib\\site-packages (1.5.1)\n",
      "Requirement already satisfied: dash-html-components in c:\\users\\aarthiksundaram\\appdata\\local\\continuum\\anaconda3\\lib\\site-packages (1.0.3)\n",
      "Requirement already satisfied: dash-core-components in c:\\users\\aarthiksundaram\\appdata\\local\\continuum\\anaconda3\\lib\\site-packages (1.10.1)\n"
     ]
    }
   ],
   "source": [
    "!pip install dash\n",
    "!pip install dash-renderer\n",
    "!pip install dash-html-components\n",
    "!pip install dash-core-components"
   ]
  },
  {
   "cell_type": "code",
   "execution_count": 2,
   "metadata": {},
   "outputs": [],
   "source": [
    "import dash\n",
    "import dash_core_components as dcc\n",
    "import dash_html_components as html\n",
    "from dash.dependencies import Input, Output"
   ]
  },
  {
   "cell_type": "code",
   "execution_count": 3,
   "metadata": {},
   "outputs": [],
   "source": [
    "app = dash.Dash()"
   ]
  },
  {
   "cell_type": "code",
   "execution_count": 34,
   "metadata": {},
   "outputs": [],
   "source": [
    "tabs_styles = {\n",
    "    'height': '44px'\n",
    "}\n",
    "tab_style = {\n",
    "    'borderBottom': '1px solid #d6d6d6',\n",
    "    'padding': '6px',\n",
    "    'fontWeight': 'bold'\n",
    "}\n",
    "\n",
    "tab_selected_style = {\n",
    "    'borderTop': '1px solid #d6d6d6',\n",
    "    'borderBottom': '1px solid #d6d6d6',\n",
    "    'backgroundColor': '#119DFF',\n",
    "    'color': 'white',\n",
    "    'padding': '6px'\n",
    "}\n",
    "app.layout = html.Div(children=[\n",
    "    html.H1(\"I am Aarthi\",style={'textAlign': 'center',\n",
    "                                 'color':'white',\n",
    "                                 'fontSize': 50,\n",
    "                                 'background-image':'url(https://cdn.pixabay.com/photo/2019/08/06/22/48/artificial-intelligence-4389372_960_720.jpg)',\n",
    "                                'position':'sticky',\n",
    "                                'width':'100%',\n",
    "                                'height':'100%',\n",
    "                                'top':'0px',\n",
    "                                'left':'0px',\n",
    "                                'z-index':'1000'}),\n",
    "    \n",
    " dcc.Tabs(id=\"tabs\", value='tab-1',children = [\n",
    "        dcc.Tab(label='About Me', value='tab-1'),\n",
    "        dcc.Tab(label='Education', value='tab-2'),\n",
    "        dcc.Tab(label='Skills', value='tab-3'),\n",
    "        dcc.Tab(label='Projects', value='tab-4'),\n",
    "        dcc.Tab(label='Resume', value='tab-5'),\n",
    "        dcc.Tab(label='Contact', value='tab-6')\n",
    "    ]),\n",
    "    html.Div(id='tabs-content-inline')\n",
    "])\n",
    "\n",
    "@app.callback(Output('tabs-content-inline', 'children'),\n",
    "              [Input('tabs-styled-with-inline', 'value')])\n",
    "def render_content(tab):\n",
    "    if tab == 'About Me':\n",
    "        return html.Div([\n",
    "            html.Img(src= \"https://www.crayondata.com/blog/wp-content/uploads/2020/02/Aarthi-Kalyanasundaram.png\")\n",
    "        ])\n",
    "    elif tab == 'Education':\n",
    "        return html.Div([\n",
    "            html.H3('Education')\n",
    "        ])\n",
    "    elif tab == 'Skills':\n",
    "        return html.Div([\n",
    "            html.H3('Skills')\n",
    "        ])\n",
    "    elif tab == 'Projects':\n",
    "        return html.Div([\n",
    "            html.H3('Projects')\n",
    "        ])\n",
    "    elif tab == 'Resume':\n",
    "        return html.Div([\n",
    "            html.H3('Resume')\n",
    "        ])\n",
    "    elif tab == 'Contact':\n",
    "        return html.Div([\n",
    "            html.H3('Contact')\n",
    "        ])"
   ]
  },
  {
   "cell_type": "code",
   "execution_count": 36,
   "metadata": {},
   "outputs": [
    {
     "name": "stdout",
     "output_type": "stream",
     "text": [
      "Dash is running on http://127.0.0.1:1412/\n",
      "\n",
      " Warning: This is a development server. Do not use app.run_server\n",
      " in production, use a production WSGI server like gunicorn instead.\n",
      "\n",
      " * Serving Flask app \"__main__\" (lazy loading)\n",
      " * Environment: production\n",
      "   WARNING: This is a development server. Do not use it in a production deployment.\n",
      "   Use a production WSGI server instead.\n",
      " * Debug mode: off\n"
     ]
    },
    {
     "name": "stderr",
     "output_type": "stream",
     "text": [
      " * Running on http://127.0.0.1:1412/ (Press CTRL+C to quit)\n",
      "127.0.0.1 - - [23/Aug/2020 13:29:50] \"\u001b[37mGET / HTTP/1.1\u001b[0m\" 200 -\n",
      "127.0.0.1 - - [23/Aug/2020 13:29:50] \"\u001b[37mGET /_dash-layout HTTP/1.1\u001b[0m\" 200 -\n",
      "127.0.0.1 - - [23/Aug/2020 13:29:50] \"\u001b[37mGET /_dash-dependencies HTTP/1.1\u001b[0m\" 200 -\n",
      "127.0.0.1 - - [23/Aug/2020 13:30:15] \"\u001b[37mGET /_dash-component-suites/dash_core_components/dash_core_components-shared.js.map HTTP/1.1\u001b[0m\" 200 -\n",
      "127.0.0.1 - - [23/Aug/2020 13:30:15] \"\u001b[37mGET /_dash-component-suites/dash_core_components/dash_core_components.min.js.map HTTP/1.1\u001b[0m\" 200 -\n",
      "127.0.0.1 - - [23/Aug/2020 13:30:15] \"\u001b[37mGET /_dash-component-suites/dash_html_components/dash_html_components.min.js.map HTTP/1.1\u001b[0m\" 200 -\n"
     ]
    }
   ],
   "source": [
    "if __name__ ==\"__main__\":\n",
    "    app.run_server(port = 1412)"
   ]
  },
  {
   "cell_type": "code",
   "execution_count": null,
   "metadata": {},
   "outputs": [],
   "source": []
  }
 ],
 "metadata": {
  "kernelspec": {
   "display_name": "Python 3",
   "language": "python",
   "name": "python3"
  },
  "language_info": {
   "codemirror_mode": {
    "name": "ipython",
    "version": 3
   },
   "file_extension": ".py",
   "mimetype": "text/x-python",
   "name": "python",
   "nbconvert_exporter": "python",
   "pygments_lexer": "ipython3",
   "version": "3.6.5"
  }
 },
 "nbformat": 4,
 "nbformat_minor": 4
}
